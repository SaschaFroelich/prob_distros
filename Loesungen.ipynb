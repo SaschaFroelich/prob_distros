{
 "cells": [
  {
   "cell_type": "markdown",
   "metadata": {},
   "source": [
    "<h1><center>Lösungen zu den Übungsaufgaben</center></h1>\n",
    "\n",
    "<b>Frage 1</b>: Gegeben einer gewissen diskreten Verteilung, welche der folgenden Aussagen ist wahr (mehrere möglich)? <br>\n",
    "a) Die Summe ihrer y-Werte ergibt immer eine Zahl zwischen 0 und 1. <br>\n",
    "b) Die Summe ihrer y-Werte kann niemals negativ sein. <br>\n",
    "c) Die Summe ihrer y-Werte ergibt immer genau 1. <br>\n",
    "<b>Richtige Antworten</b>: (b) & (c). $\\blacksquare$<br>"
   ]
  },
  {
   "cell_type": "markdown",
   "metadata": {},
   "source": [
    "<b>Frage 2</b>: Auf wieviele Weisen kann man $9$ Studenten auf $21$ Zimmer aufteilen, so dass sich auf jedem Zimmer maximal eine Person befindet? <br>\n",
    "<b>Antwort</b>:<br>\n",
    "${ 21 \\choose 9} = \\frac{21!}{9!12!}=293\\,930 \\, \\blacksquare$"
   ]
  },
  {
   "cell_type": "markdown",
   "metadata": {},
   "source": [
    "<b>Frage 3</b>: Was ist die Wahrscheinlichkeit, bei $20$ Münzwürfen mindestens 14 Mal Zahl zu würfeln, wenn die Wahrscheinlichkeit bei einem einzelnen Münzwurf Zahl zu würfeln bei $0.6$ liegt? <br>\n",
    "<b>Antwort</b>:<br>\n",
    "$p(x\\geq 14 | n=20)=\\sum_{k=14}^{20}{ 20 \\choose k}0.6^{k} (1-0.6)^{20-k}=0.25$"
   ]
  },
  {
   "cell_type": "code",
   "execution_count": 1,
   "metadata": {},
   "outputs": [
    {
     "name": "stdout",
     "output_type": "stream",
     "text": [
      "k=14\n",
      "k=15\n",
      "k=16\n",
      "k=17\n",
      "k=18\n",
      "k=19\n",
      "k=20\n",
      "p = 0.250\n"
     ]
    }
   ],
   "source": [
    "from scipy.stats import binom\n",
    "\n",
    "n, p = 20, 0.6\n",
    "\n",
    "probability = 0;\n",
    "for k in range(14,21):\n",
    "    print(\"k=%d\"%k)\n",
    "    probability += binom.pmf(k, n, p) \n",
    "\n",
    "print(\"p = %.3f\"%probability)"
   ]
  },
  {
   "cell_type": "markdown",
   "metadata": {},
   "source": [
    "<b>Frage 4:</b> Wie hoch ist die Wahrscheinlichkeit, dass in einem gegebenen Jahr 5 oder mehr Soldaten durch einen Huftritt sterben werden? <br>\n",
    "<b>Antwort</b>:<br>\n",
    "$\\lambda = 3$ <br>\n",
    "$p(k\\geq 5)=\\sum_{k=5}^{\\infty} \\frac{\\lambda^k e^{-\\lambda}}{k!} = 1- \\sum_{k=0}^{4} \\frac{\\lambda^k e^{-\\lambda}}{k!}=0.185$.\n",
    "$\\blacksquare$"
   ]
  },
  {
   "cell_type": "code",
   "execution_count": 2,
   "metadata": {},
   "outputs": [
    {
     "name": "stdout",
     "output_type": "stream",
     "text": [
      "k=0\n",
      "k=1\n",
      "k=2\n",
      "k=3\n",
      "k=4\n",
      "p = 0.185\n"
     ]
    }
   ],
   "source": [
    "from scipy.stats import poisson\n",
    "\n",
    "rate = 3\n",
    "\n",
    "probability = 0\n",
    "for k in range(5):\n",
    "    print(\"k=%d\"%k)\n",
    "    probability += poisson.pmf(k, rate)\n",
    "    \n",
    "print(\"p = %.3f\"%(1-probability))"
   ]
  },
  {
   "cell_type": "markdown",
   "metadata": {},
   "source": [
    "<b>Frage 5</b>: Hier sehen wir eine Gaußkurve mit Mittelwert $0$ und Standardabweichung $1$. Gegeben eines Experimentes, dessen Ausgang durch diese Kurve beschrieben wird, <b>wie</b> groß ist ist die Wahrscheinlichkeit, dass das Ergebnis zwischen $0$ und $1$ liegen wird?\n",
    "\n",
    "![Normalverteilung](./gauss_area.png \"Wahrscheinlichkeiten\") $\\blacksquare$"
   ]
  },
  {
   "cell_type": "markdown",
   "metadata": {},
   "source": [
    "<b>Antwort</b>:<br>\n",
    "Die Fläche unter einer Gaußkurve lässt sich nicht so ohne weiteres analytisch berechnen. Es gibt jedoch zwei Möglichkeiten: Man bedient sich der [kumulierten Verteilungsfunktion](https://de.wikipedia.org/wiki/Normalverteilung) $\\frac{1}{2}\\left[1+ erf\\left(\\frac{x-\\mu}{\\sqrt{2\\sigma^2}}\\right)\\right]$, oder einer [Standardnormalverteilungstabelle](https://de.wikipedia.org/wiki/Standardnormalverteilungstabelle). <br>\n",
    "$p(0 \\leq x \\leq 1) = p(x \\leq 1) - p(x \\leq 0) = 0.84134- 0.5 = 0.34134$. \n",
    "\n",
    "Natürlich kommt auf dasselbe Ergebnis auch mit der entsprechenden python-Funktion:"
   ]
  },
  {
   "cell_type": "code",
   "execution_count": 3,
   "metadata": {},
   "outputs": [
    {
     "name": "stdout",
     "output_type": "stream",
     "text": [
      "p=0.341345\n"
     ]
    }
   ],
   "source": [
    "import scipy.stats as stats\n",
    "\n",
    "p = stats.norm.cdf(1, 0, 1) - stats.norm.cdf(0, 0, 1)\n",
    "print(\"p=%f\"%p)"
   ]
  },
  {
   "cell_type": "markdown",
   "metadata": {},
   "source": [
    "<b>Frage 6</b>: <br> (a) Angenommen, die Wahrscheinlichkeit für die Körpergröße einer zufälligen Person sei $p(h) = \\mathcal{N}(165,20^2)$ $cm$. Was ist die Likelihood dafür dass eine zufällig gewählte Person $160$ $cm$ groß ist? Was ist die Warscheinlichkeit dass eine zufällige Person zwischen $175$ and $185$ $cm$ groß ist? <br>\n",
    "(b) Drücke die Wahrscheinlichkeitsverteilung aus (a) in Metern aus, und rechne die Likelihood und die Wahrscheinlichkeit mit der neuen Verteilung erneut aus. Sollte sich die Wahrscheinlichkeit in diesem Fall ändern? $\\blacksquare$"
   ]
  },
  {
   "cell_type": "markdown",
   "metadata": {},
   "source": [
    "<b>Antwort</b>:<br>\n",
    "$\\mu=165, \\sigma=20 \\rightarrow p(x) = \\frac{1}{\\sqrt{2\\pi 20^2}}e^{-\\frac{(x-165)^2}{2\\cdot 20^2}}$ <br>\n",
    "(a) $p(175 \\leq x \\leq 185) = p(x \\leq 185) - p(x \\leq 175) = 0.149882$ <br>\n",
    "$Likelihood = p(160) = 0.019333$"
   ]
  },
  {
   "cell_type": "code",
   "execution_count": 4,
   "metadata": {
    "scrolled": true
   },
   "outputs": [
    {
     "name": "stdout",
     "output_type": "stream",
     "text": [
      "p=0.149882\n"
     ]
    }
   ],
   "source": [
    "p = stats.norm.cdf(185, 165, 20) - stats.norm.cdf(175, 165, 20)\n",
    "print(\"p=%f\"%p)"
   ]
  },
  {
   "cell_type": "code",
   "execution_count": 5,
   "metadata": {},
   "outputs": [
    {
     "name": "stdout",
     "output_type": "stream",
     "text": [
      "Likelihood=0.019333\n"
     ]
    }
   ],
   "source": [
    "L = stats.norm.pdf(160, 165, 20)\n",
    "print(\"Likelihood=%f\"%L)"
   ]
  },
  {
   "cell_type": "markdown",
   "metadata": {},
   "source": [
    "(b) $\\mu=1.65, \\sigma=0.20 \\rightarrow p(x) = \\frac{1}{\\sqrt{2\\pi 0.20^2}}e^{-\\frac{(x-1.65)^2}{2\\cdot 0.20^2}}$ <br>\n",
    "$p(1.75 \\leq x \\leq 1.85) = p(x \\leq 1.85) - p(x \\leq 1.75) = 0.149882$ <br>\n",
    "$Likelihood = p(1.60) = 1.933341$"
   ]
  },
  {
   "cell_type": "code",
   "execution_count": 6,
   "metadata": {},
   "outputs": [
    {
     "name": "stdout",
     "output_type": "stream",
     "text": [
      "p=0.149882\n"
     ]
    }
   ],
   "source": [
    "p = stats.norm.cdf(1.85, 1.65, 0.20) - stats.norm.cdf(1.75, 1.65, 0.20)\n",
    "print(\"p=%f\"%p)"
   ]
  },
  {
   "cell_type": "code",
   "execution_count": 7,
   "metadata": {},
   "outputs": [
    {
     "name": "stdout",
     "output_type": "stream",
     "text": [
      "Likelihood=1.933341\n"
     ]
    }
   ],
   "source": [
    "L = stats.norm.pdf(1.6, 1.65, 0.20)\n",
    "print(\"Likelihood=%f\"%L)"
   ]
  },
  {
   "cell_type": "markdown",
   "metadata": {},
   "source": [
    "<b>NB:</b> Die Wahrscheinlichkeit ändert sich bei einer anderen Skalierung der Verteilungsfunktion nicht, die Likelihood hingegen schon. Dies ist ein weiterer Grund, wieso man die Likelihood nicht mit der Wahrscheinlichkeit verwechseln sollte."
   ]
  },
  {
   "cell_type": "markdown",
   "metadata": {},
   "source": [
    "<b>Frage 7:</b> Könnte man die Verteilung der Huftritte in der preußischen Armee nicht auch als <i>statistische Fehler</i> um einen gegebenen Mittelwert betrachten? Falls ja, wieso benutzt man zur Modellierung dieses Szenarios nicht die Normalverteilung? <br> <br>\n",
    "<b>Antwort:</b> <br> Technisch gesehen handelt es sich hierbei natürlich auch um statistische Fehler, und nicht um systematische Fehler. Allerdings eignet sich eine Normalverteilung hier nicht, da die Normalverteilung eine kontinuierliche Verteilung ist, wohingegen das Problem ganzzahlige Werte verlangt (Anzahl Huftritte). Außerdem kann die Zufallsvariable \"Anzahl Huftritte\" keine negativen Werte annehmen, was man bei einer Normalverteilung jedoch nicht verhindern kann. Daher eignet sich die Normalverteilung für diese Art des Problems nicht.$\\blacksquare$"
   ]
  },
  {
   "cell_type": "markdown",
   "metadata": {},
   "source": [
    "<b>Frage 8:</b> Kannst Du durch logische Überlegung ergründen, wie die Betaverteilung $Beta(1,1)$ aussieht?  <br> <br>\n",
    "<b>Antwort:</b> Wenn $Beta(\\alpha, \\beta)$ beschreibt, welche mit welcher Wahrscheinlichkeit $p(Zahl)$ man nach $\\alpha-1$ Zahl und $\\beta-1$ Kopf rechnen kann, so bedeutet, dass $Beta(1, 1)$ die beste Schätzung für $p(Zahl)$ nach keinem einzigen Münzwurf wäre. Da man nach $0$ Würfen keine informierte Entscheidung treffen kann, gibt es keinen Grund, irgendeinen Wert zwischen $p(Zahl)=0$ und $p(Zahl)=1$ füpr wahrscheinlicher als einen anderen zu halten, daher muss $Beta(1, 1)$ die Gleichverteilung zwischen $0$ und $1$ sein. $\\blacksquare$"
   ]
  },
  {
   "cell_type": "code",
   "execution_count": 8,
   "metadata": {},
   "outputs": [
    {
     "data": {
      "image/png": "[encoded data removed]",
      "text/plain": [
       "<Figure size 432x288 with 1 Axes>"
      ]
     },
     "metadata": {
      "needs_background": "light"
     },
     "output_type": "display_data"
    }
   ],
   "source": [
    "from scipy.stats import beta\n",
    "import numpy as np\n",
    "import matplotlib.pyplot as plt\n",
    "\n",
    "# Parameter\n",
    "a, b = 1,1\n",
    "#############\n",
    "\n",
    "x = np.arange(0, 1, 0.01)\n",
    "plt.plot(x, beta.pdf(x, a, b), ms=8, label='Beta Pdf')\n",
    "plt.title(u'Betaverteilung Beta(\\u03b1=%d, \\u03b2=%d)'%(a,b))\n",
    "plt.ylabel(u'Beta(x| \\u03b1, \\u03b2)')\n",
    "plt.xlabel('x')\n",
    "plt.show()"
   ]
  },
  {
   "cell_type": "markdown",
   "metadata": {},
   "source": [
    "<b>Frage 9:</b> Welche der folgenden beiden Marizen kann <i>keine</i> Kovarianzmatrix sein? Wieso? <br>\n",
    "<b>(a)</b> \\begin{equation*}\n",
    "\\begin{pmatrix}\n",
    "1 & 36 & 4.5 \\\\\n",
    "36 & 1 & 0.9 \\\\\n",
    "4.5 & 0.9  & 1  \\\\\n",
    "\\end{pmatrix}\n",
    "\\end{equation*}\n",
    "<b>(b)</b> \\begin{equation*}\n",
    "\\begin{pmatrix}\n",
    "1 & 0.8 & 0.1 \\\\\n",
    "0.9 & 1 & 0.2 \\\\\n",
    "0.5 & 0.2  & 1  \\\\\n",
    "\\end{pmatrix}\n",
    "\\end{equation*}\n",
    "\n",
    "<br>\n",
    "<b>Antwort:</b> <br>\n",
    "Die Kovarianzmatrix beinhaltet als Einträge die Kovarianzen $Cov(X_i, X_j)$ der Zufallsvariablen miteinander. Da Kovarianzen symmetrisch sind $Cov(X_i, X_j) = Cov(X_j, X_i)$ muss auch die Kovarianzmatrix symmetrisch sein. Somit ist die richtige Antwort (a)."
   ]
  },
  {
   "cell_type": "markdown",
   "metadata": {},
   "source": [
    "<b>Frage 10:</b> Die Verteilung des IQ ist definiert als eine Normalverteilung mit Mittelwert $100$ und Standardabweichung $15$: $IQ \\sim \\mathcal{N}(100, 15^2)$. Wie hoch ist die Wahrscheinlichkeit, dass ein zufälliger Mensch einen IQ von 180 oder mehr hat? Wievielen Menschen entspräche das bei einer Weltbevölkerung von $8$ Milliarden Menschen?<br>\n",
    "<b>Antwort:</b> <br>\n",
    "$p(x\\leq 180) = \\int_{180}^{\\infty} \\mathcal{N}(x; 100, 15^2) dx = 0.00000005$\n",
    "<br>\n",
    "$N = 0.00000005\\cdot 8\\cdot10^9 \\approx386$"
   ]
  },
  {
   "cell_type": "code",
   "execution_count": 9,
   "metadata": {
    "scrolled": true
   },
   "outputs": [
    {
     "name": "stdout",
     "output_type": "stream",
     "text": [
      "p=0.00000005\n",
      "N=385.70426941\n"
     ]
    }
   ],
   "source": [
    "p = 1 - stats.norm.cdf(180, 100, 15)\n",
    "print(\"p=%.8f\"%p)\n",
    "print(\"N=%.8f\"%(p*8*10**9))"
   ]
  },
  {
   "cell_type": "markdown",
   "metadata": {},
   "source": [
    "<b>Frage 11:</b> Wieso ist die Definition des IQ immer nur eine Annäherung und kann nie exakt sein? <br>\n",
    "<b>Antwort:</b> <br>\n",
    "Der IQ ist als Normalverteilung definiert. Da die Normalverteilung unbegrenzt ist auf der x-Achse, gäbe es theoretisch auch eine Wahrscheinlichkeit größer $0$, dass es Menschen mit negativem IQ gibt. Dies ist natürlich nicht möglich."
   ]
  },
  {
   "cell_type": "markdown",
   "metadata": {},
   "source": [
    "<b>Frage 12:</b> Kommt bei der Berechnung des p-Werts mit der Student t-Verteilung das gleiche Ergebnis raus? Wieso/ wieso nicht? <br> \n",
    "<b>Antwort:</b> <br>\n",
    "Die Student-t-Verteilung ist eine Annäherung für den Fall dass man die Varianz der Bevölkerung nicht kennt und anhand der Varianz der Stichprobe schätzen muss. Daher ist die Student-t-Verteilung nie exakt und kann nur als Annäherung verstanden werden. Da die Varianz der Population beim IQ allerdings gegeben ist, macht es hier auch keinen Sinn, die Student-t-Verteilung zu verwenden. Die t-Statistik für eine Population mit Mittelwert $\\mu = 100$ wäre in diesem Fall: <br>\n",
    "\n",
    "$t = \\frac{\\bar{X}-\\mu}{\\sqrt{S^2/N}}$ <br>\n",
    "$\\bar{X} = \\frac{134+126}{2} = 130$ <br>\n",
    "$S^2 = \\frac{1}{n-1}\\sum_i (X_i - \\bar{X})^2 = \\frac{1}{1}(4^2 + 4^2) = 32$ <br>\n",
    "$\\rightarrow t = \\frac{130-100}{\\sqrt{32/2}}=7.5$ <br> <br>\n",
    "\n",
    "Die t-Verteilungsfunktion für $\\nu=n-1=1$ Freiheitsgrade ist $F(t)=\\frac{1}{2}+\\frac{1}{\\pi}\\arctan(t)$ <br>\n",
    "$\\rightarrow \\text{p-Wert} = 1- F(7.5) = 0.0422$. <br>\n",
    "Mit der t-Verteilung hätte man sich hier also um ca. einen Faktor zwei verschätzt."
   ]
  },
  {
   "cell_type": "markdown",
   "metadata": {},
   "source": [
    "<h1>Zusatzaufgaben</h1>"
   ]
  },
  {
   "cell_type": "markdown",
   "metadata": {},
   "source": [
    "<b>Frage 13:</b> Pro Jahrhundert wird die Erde (ungefähr) zweimal von Meteoriten [mit einem Durchmesser von 20 Metern](https://en.wikipedia.org/wiki/Chelyabinsk_meteor) getroffen. Wie hoch ist die Wahrscheinlichkeit, dass sich in einem gegebenen Jahrhundert genau $4$ solcher Einschläge ereignen? <br> <br>\n",
    "<b>Antwort:</b> <br>\n",
    "Dieses Problem ist ähnlich zur Frage mit den Pferdetritten. Wir benötigen hier die Poissonverteilung:\n"
   ]
  },
  {
   "cell_type": "code",
   "execution_count": 10,
   "metadata": {},
   "outputs": [
    {
     "name": "stdout",
     "output_type": "stream",
     "text": [
      "p = 0.090\n"
     ]
    }
   ],
   "source": [
    "from scipy.stats import poisson\n",
    "\n",
    "rate = 2\n",
    "k = 4\n",
    "\n",
    "probability = poisson.pmf(k, rate)\n",
    "    \n",
    "print(\"p = %.3f\"%probability)"
   ]
  },
  {
   "cell_type": "markdown",
   "metadata": {},
   "source": [
    "<b>Frage 14:</b> Was ist der Unterschied zwischen Wahrscheinlichkeit und Likelihood?<br><br>\n",
    "<b>Antwort:</b> <br>\n",
    "Der y-Wert einer kontinuierlichen Wahrscheinlichkeitsverteilung entspricht der <i>Likelihood</i>, aber nicht einer Wahrscheinlichkeit. Die Wahrscheinlichkeit entspricht bei einer kontinuierlichen Wahrscheinlichkeitsverteilung der Fläche unter der Kurve zwischen zwei Events.\n",
    "\n",
    "<b>Frage 15:</b> Wir befinden uns in einem dystopischen Zukuntfsszenario. Eine neue Krankheit breitet sich mit rasender Geschwindigkeit aus, doch inmitten Deiner Freunde befindet sich ein Skeptiker, der das alles für \"Panikmache\" hält. Er sagt: \"Die übertreiben doch alle. So schlimm ist das bestimmt nicht! Ich wette mit Dir, wir beide werden niemanden kennen, der daran stirbt!\" Deine Antwort lautet: \"Hoffentlich nicht! Denn selbst wenn die Wahrscheinlichkeit, dass in unserem Bekanntenkreis von 150 Personen mindestens eine Person daran stirbt, nur 50% sein soll, dann müssten bei einer Einwohnerzahl von 80 Millionen Menschen XXX Menschen sterben.\" Dein Skeptiker-Freund antwortet daraufhin: \"Wow, das war mir nicht klar. Ich habe jetzt verstanden, wie undurchdacht meine Aussage war!\"\n",
    "Wie hoch ist die Zahl XXX? <br><br>\n",
    "<b>Antwort:</b> <br>\n",
    "Dieses Problem kann mit der Binomialverteilung gelöst werden: <br>\n",
    "$p(x>0) = 1 - p(x=0) \\stackrel{\\text{!}}{=} 0.5$ <br>\n",
    "$\\rightarrow p(x=0) = {150 \\choose 0}p^{0} (1-p)^{150} = (1-p)^{150} \\stackrel{\\text{!}}{=} 0.5$ <br> $\\rightarrow p = 1-\\sqrt[\\leftroot{-2}\\uproot{2}150]{0.5}$ <br>\n",
    "Bei $N$ Todesfällen bei 80 Millionen Einwohnern ist $p = \\frac{N}{80 \\cdot 10^6}$  <br>\n",
    "$\\rightarrow 1-\\sqrt[\\leftroot{-2}\\uproot{2}150]{0.5} = \\frac{N}{80 \\cdot 10^6} \\rightarrow N = 80\\cdot10^6 \\cdot (1-\\sqrt[\\leftroot{-2}\\uproot{2}150]{0.5})$ <br> <br>\n",
    "$\\rightarrow N \\approx 368\\,826$"
   ]
  },
  {
   "cell_type": "markdown",
   "metadata": {},
   "source": [
    "<b>Frage 16:</b> Eine Münze wurde $100$ mal geworfen, mit dem Ergebnis $70$ Zahl und $30$ mal Kopf. Wie hoch ist die Wahrscheinlichkeit, dass die Wahrscheinlichkeit für Zahl mindestens $60\\%$ beträgt? <br> <br>\n",
    "<b>Antwort:</b> <br>\n",
    "Die Schätzung von $p(\\text{Zahl})$ gibt die Betaverteilung $Beta(71,31)$:"
   ]
  },
  {
   "cell_type": "code",
   "execution_count": 11,
   "metadata": {},
   "outputs": [
    {
     "data": {
      "image/png": "[encoded data removed]",
      "text/plain": [
       "<Figure size 432x288 with 1 Axes>"
      ]
     },
     "metadata": {
      "needs_background": "light"
     },
     "output_type": "display_data"
    }
   ],
   "source": [
    "from scipy.stats import beta\n",
    "\n",
    "a, b = 71, 31\n",
    "\n",
    "x = np.arange(0, 1, 0.01)\n",
    "plt.plot(x, beta.pdf(x, a, b), ms=8, label='Beta Pdf')\n",
    "plt.title(u'Betaverteilung Beta(\\u03b1=%d, \\u03b2=%d)'%(a,b))\n",
    "plt.ylabel(u'Beta(x| \\u03b1, \\u03b2)')\n",
    "plt.xlabel('p(Zahl)')\n",
    "plt.show()"
   ]
  },
  {
   "cell_type": "markdown",
   "metadata": {},
   "source": [
    "Die Wahrscheinlichkeit, dass $p(\\text{Zahl})>0.6$ entspricht der Fläche unter der Betafunktion rechts von $x=0.6$:<br>\n",
    "$p(p(\\text{Zahl})>0.6) = \\int_{0.6}^1 Beta(71, 31) = 1- CDF_{Beta(71, 31)}(x=0.6)=0.979$"
   ]
  },
  {
   "cell_type": "code",
   "execution_count": 13,
   "metadata": {
    "scrolled": true
   },
   "outputs": [
    {
     "data": {
      "text/plain": [
       "0.9792201788378117"
      ]
     },
     "execution_count": 13,
     "metadata": {},
     "output_type": "execute_result"
    }
   ],
   "source": [
    "1-beta.cdf(0.6, 71, 31)"
   ]
  }
 ],
 "metadata": {
  "kernelspec": {
   "display_name": "Python 3",
   "language": "python",
   "name": "python3"
  },
  "language_info": {
   "codemirror_mode": {
    "name": "ipython",
    "version": 3
   },
   "file_extension": ".py",
   "mimetype": "text/x-python",
   "name": "python",
   "nbconvert_exporter": "python",
   "pygments_lexer": "ipython3",
   "version": "3.9.1"
  }
 },
 "nbformat": 4,
 "nbformat_minor": 4
}
